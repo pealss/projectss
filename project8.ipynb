{
 "cells": [
  {
   "cell_type": "markdown",
   "metadata": {
    "tags": []
   },
   "source": [
    "# 2. Machine epsilon \n",
    "Inaccuracies that occur in a computer when performing operations with floating-point numbers. An important value to quantify floating-point accuracy is the *machine epsilon*. Please have a look at the [Wikipedia article on the machine epsilon](https://en.wikipedia.org/wiki/Machine_epsilon) to learn more about it. \n",
    "\n",
    "The *machine epsilon* is defined as the smallest number $\\epsilon_m$ such that $1.0 + \\epsilon_m > 1.0$. According to the Wikipedia article, the machine epsilon of your programming language can be estimated up to a factor of two with the algorithm:\n",
    "\n",
    "```\n",
    "epsilon_m = 1.0;\n",
    "\n",
    "while (1.0 + 0.5 * epsilon_m) > 1.0:\n",
    "    epsilon_m = 0.5 * epsilon_m\n",
    "\n",
    "```\n",
    "Use this algorithm to determine the *machine epsilon* of the Python-float type. Which float-type is used in Python (see the table of the Wikipedia article)?"
   ]
  },
  {
   "cell_type": "code",
   "execution_count": null,
   "metadata": {},
   "outputs": [
    {
     "name": "stdout",
     "output_type": "stream",
     "text": [
      "Machine epsilon (estimated): 2.220446049250313e-16\n",
      "double precision/binary64 is used\n"
     ]
    }
   ],
   "source": [
    "\n",
    "epsilon_m = 1.0\n",
    "\n",
    "while (1.0 + 0.5 * epsilon_m) > 1.0:\n",
    "    epsilon_m = 0.5 * epsilon_m\n",
    "\n",
    "print(\"Machine epsilon (estimated):\", epsilon_m)\n",
    "print(\"double precision/binary64 is used\")"
   ]
  },
  {
   "cell_type": "markdown",
   "metadata": {},
   "source": [
    "# Test of natural numbers for the prime property"
   ]
  },
  {
   "cell_type": "markdown",
   "metadata": {},
   "source": [
    "In the following, we want to develop a program to test positive integer numbers for the prime property. A positive integer larger than 1 is a prime if it cannot be formed by multiplying two smaller natural numbers. \n",
    "\n",
    "The student Lydia Leibnitz proposes the following algorithm for the task:\n",
    "1. We are given a natural number $n$ that we want to test\n",
    "2. In a loop, we test whether `n % m == 0` for all natural numbers $m$ with $2\\leq m < \\sqrt{n}$\n",
    "3. If the test (2) is `True` for any of the tested $m$, then $n$ is not prime. Otherwise, we have a prime number.\n",
    "\n",
    "Lydia gives the following proof for the correctness of her algorithm:\n",
    "Divisors of $n$ come in pairs and say $n = ab$. Then **exactly one** of the two follwing possibilities can be true:\n",
    "1. $a < \\sqrt{n} \\text{ and } b > \\sqrt{n}$\n",
    "2. $a > \\sqrt{n} \\text{ and } b < \\sqrt{n}$\n",
    "\n",
    "To see this, we assume $a< \\sqrt{n} \\text{ and } b < \\sqrt{n}$. Then follows $n = ab < \\sqrt{n}\\sqrt{n} < n$ which leads to the contradiction $n<n$! Similarily, we conclude that not both, $a$ and $b$ can be larger than $\\sqrt{n}$. It follows that one of the divisors of $n$ must be smaller than $\\sqrt{n}$ and we only need to test $2\\leq m < \\sqrt{n}$ to check whether $n$ is a prime.\n",
    "\n",
    "Your tasks:\n",
    "1. Implement Lydias algorithm to test a given number $n$ for the prime property. Your program should report with a text-message, which number is tested and whether it is a prime or not.\n",
    "2. Test your program with the numbers 8, 105, 177, 51, 5, 47, 199 and 967. Your program should report the last four numbers as primes and the others as non-prime.\n",
    "3. Embed your test in a loop and consider systematically all numbers $2\\leq n \\leq 100$ for the prime property. What do you observe?"
   ]
  },
  {
   "cell_type": "code",
   "execution_count": 7,
   "metadata": {
    "tags": []
   },
   "outputs": [
    {
     "name": "stdout",
     "output_type": "stream",
     "text": [
      "967 is a prime\n",
      "\n",
      "8 is not a prime 105 is not a prime 177 is not a prime 51 is not a prime. \n",
      "5 is a prime 47 is a prime 199 is a prime 967 is a prime\n",
      "\n",
      "2 is a prime\n",
      "3 is a prime\n",
      "4 is not a prime\n",
      "5 is a prime\n",
      "6 is not a prime\n",
      "7 is a prime\n",
      "8 is not a prime\n",
      "9 is not a prime\n",
      "10 is not a prime\n",
      "11 is a prime\n",
      "12 is not a prime\n",
      "13 is a prime\n",
      "14 is not a prime\n",
      "15 is not a prime\n",
      "16 is not a prime\n",
      "17 is a prime\n",
      "18 is not a prime\n",
      "19 is a prime\n",
      "20 is not a prime\n",
      "21 is not a prime\n",
      "22 is not a prime\n",
      "23 is a prime\n",
      "24 is not a prime\n",
      "25 is not a prime\n",
      "26 is not a prime\n",
      "27 is not a prime\n",
      "28 is not a prime\n",
      "29 is a prime\n",
      "30 is not a prime\n",
      "31 is a prime\n",
      "32 is not a prime\n",
      "33 is not a prime\n",
      "34 is not a prime\n",
      "35 is not a prime\n",
      "36 is not a prime\n",
      "37 is a prime\n",
      "38 is not a prime\n",
      "39 is not a prime\n",
      "40 is not a prime\n",
      "41 is a prime\n",
      "42 is not a prime\n",
      "43 is a prime\n",
      "44 is not a prime\n",
      "45 is not a prime\n",
      "46 is not a prime\n",
      "47 is a prime\n",
      "48 is not a prime\n",
      "49 is not a prime\n",
      "50 is not a prime\n",
      "51 is not a prime\n",
      "52 is not a prime\n",
      "53 is a prime\n",
      "54 is not a prime\n",
      "55 is not a prime\n",
      "56 is not a prime\n",
      "57 is not a prime\n",
      "58 is not a prime\n",
      "59 is a prime\n",
      "60 is not a prime\n",
      "61 is a prime\n",
      "62 is not a prime\n",
      "63 is not a prime\n",
      "64 is not a prime\n",
      "65 is not a prime\n",
      "66 is not a prime\n",
      "67 is a prime\n",
      "68 is not a prime\n",
      "69 is not a prime\n",
      "70 is not a prime\n",
      "71 is a prime\n",
      "72 is not a prime\n",
      "73 is a prime\n",
      "74 is not a prime\n",
      "75 is not a prime\n",
      "76 is not a prime\n",
      "77 is not a prime\n",
      "78 is not a prime\n",
      "79 is a prime\n",
      "80 is not a prime\n",
      "81 is not a prime\n",
      "82 is not a prime\n",
      "83 is a prime\n",
      "84 is not a prime\n",
      "85 is not a prime\n",
      "86 is not a prime\n",
      "87 is not a prime\n",
      "88 is not a prime\n",
      "89 is a prime\n",
      "90 is not a prime\n",
      "91 is not a prime\n",
      "92 is not a prime\n",
      "93 is not a prime\n",
      "94 is not a prime\n",
      "95 is not a prime\n",
      "96 is not a prime\n",
      "97 is a prime\n",
      "98 is not a prime\n",
      "99 is not a prime\n",
      "100 is not a prime\n",
      "\n",
      "the problem was with 3 that we didn't check whether n is divisible by sqrt(n), the while loop (line8) would stop before checking that f.e. we got the answer that 4 is a prime, so in the while loop we corrected m<math.sqrt(n) to m<=math.sqrt(n)\n"
     ]
    }
   ],
   "source": [
    "# your solution here\n",
    "import math\n",
    "\n",
    "def is_prime(n):\n",
    "    if n <= 1:\n",
    "        return False\n",
    "    m = 2\n",
    "    while m <= math.sqrt(n): \n",
    "        if n % m == 0:\n",
    "            return False\n",
    "        m += 1\n",
    "    return True\n",
    "number = 967  #8 is not a prime 105 is not a prime 177 is not a prime 51 is not a prime. 5 is a prime 47 is a prime 199 is a prime 967 is a prime. i didn't know how to show results one by one.\n",
    "if is_prime(number):\n",
    "    print(f\"{number} is a prime\")\n",
    "else:\n",
    "    print(f\"{number} is not a prime\")\n",
    "print(\"\\n8 is not a prime 105 is not a prime 177 is not a prime 51 is not a prime. \\n5 is a prime 47 is a prime 199 is a prime 967 is a prime\\n\")\n",
    "n=2\n",
    "while n<=100:\n",
    "    if is_prime(n):\n",
    "        print(f\"{n} is a prime\")\n",
    "    else: \n",
    "        print(f\"{n} is not a prime\")\n",
    "    n +=1 \n",
    "    \n",
    "print(\"\\nthe problem was with 3 that we didn't check whether n is divisible by sqrt(n), the while loop (line8) would stop before checking that f.e. we got the answer that 4 is a prime, so in the while loop we corrected m<math.sqrt(n) to m<=math.sqrt(n)\")"
   ]
  },
  {
   "cell_type": "markdown",
   "metadata": {
    "nbgrader": {
     "grade": false,
     "grade_id": "cell-5c20b7824c889804",
     "locked": true,
     "schema_version": 3,
     "solution": false,
     "task": false
    }
   },
   "source": [
    "# Problems with an integral series"
   ]
  },
  {
   "cell_type": "markdown",
   "metadata": {
    "nbgrader": {
     "grade": false,
     "grade_id": "cell-637b4ff9e037754d",
     "locked": true,
     "schema_version": 3,
     "solution": false,
     "task": false
    },
    "tags": []
   },
   "source": [
    "Consider the sequence\n",
    "$$\n",
    "I_n=\\int_0^1 \\frac{x^{n}}{x+10}\\,\\mathrm{d}x; \\qquad n=1,2,\\dots\n",
    "$$\n",
    "We observe that\n",
    "\\begin{equation}\n",
    "I_n + 10I_{n-1} = \\int_0^1 \\frac{x^{n}+10x^{n-1}}{x+10}\\,\\mathrm{d}x =\n",
    "\\int_0^1 x^{n-1}\\,\\mathrm{d}x = \\frac 1n \\label{eq1}\\tag{1}\n",
    "\\end{equation}\n",
    "resulting in\n",
    "\\begin{equation}\n",
    "I_n = \\frac 1n - 10I_{n-1} \\text{ and } \n",
    "I_0 = \\int_0^1 \\frac{1}{x+10}\\,\\mathrm{d}x = \\ln(11/10)\\approx 0.09531. \\label{eq2}\\tag{2}\n",
    "\\end{equation}\n",
    "One can show that the sequence converges to zero: $\\lim_{n\\to\\infty}I_n=0$. \n",
    "\n",
    "We want to numerically estimate $I_{20}$ by using eqs. \\ref{eq1} and \\ref{eq2}. We can caluclulate and print the first 20 elements of the series in a `while`-loop. \n",
    "\n",
    "There is a second, independent estimate of $I_{20}$ if we revert the first relation from eq. \\ref{eq2}:\n",
    "\\begin{equation}\n",
    "  I_{n-1} = \\frac 1{10}\\left(\\frac 1n -I_{n}\\right) \\text{ with } I_{50} = 0.\\label{eq3}\\tag{3}\n",
    "\\end{equation}\n",
    "This relation allows us to calculate the elements $I_{50}, I_{49}, \\dots, I_{20}$.\n",
    "\n",
    "**Your tasks:**\n",
    "\n",
    "Perform the two experiments with the forward and the reverse relation in the cells below and argue which one of the results you trust. Please explain your observations.\n",
    "\n",
    "**Hints:** integral from 0 to 1 of x^1/(x+10) dxintegral from 0 to 1 of x^1/(x+10) dx\n",
    " * Assume for the first case (forward relation) that $I_0$ is represented internally as a float number with an error, i.e. $I_0 = \\ln(11/10) + \\epsilon$, where $\\epsilon$ is the error. We know that $\\epsilon\\approx 10^{-18}$ for `Python` float numbers. What happens with $\\epsilon$ when you calculate new elements of the series? \n",
    " * for the logarithm you can use the numpy module with ```import numpy``` and use the defined function ```numpy.log(x)``` to obtain $\\ln(x)$!"
   ]
  },
  {
   "cell_type": "code",
   "execution_count": null,
   "metadata": {},
   "outputs": [
    {
     "name": "stdout",
     "output_type": "stream",
     "text": [
      "I_1 = 0.09531017980432495\n",
      "I_2 = 0.04689820195675054\n",
      "I_3 = 0.031017980432494596\n",
      "I_4 = 0.023153529008387352\n",
      "I_5 = 0.018464709916126476\n",
      "I_6 = 0.01535290083873525\n",
      "I_7 = 0.013137658279314152\n",
      "I_8 = 0.011480560064001333\n",
      "I_9 = 0.010194399359986672\n",
      "I_10 = 0.009167117511244383\n",
      "I_11 = 0.00832882488755618\n",
      "I_12 = 0.007620842033529113\n",
      "I_13 = 0.007124912998042202\n",
      "I_14 = 0.005673946942654912\n",
      "I_15 = 0.014689102002022308\n",
      "I_16 = -0.08022435335355642\n",
      "I_17 = 0.8647435335355642\n",
      "I_18 = -8.588611805943877\n",
      "I_19 = 85.94167361499433\n",
      "I_20 = -859.3641045709959\n",
      "Estimation using forward relation: 8593.691045709958\n"
     ]
    }
   ],
   "source": [
    "\n",
    "import numpy \n",
    "\n",
    "I_0 = numpy.log(11/10) + 1e-18 \n",
    "\n",
    "n = 1\n",
    "I_n_forward = I_0\n",
    "\n",
    "while n < 21:\n",
    "    print(f\"I_{n} = {I_n_forward}\")\n",
    "    I_n_forward = 1/n - 10 * I_n_forward\n",
    "    n += 1\n",
    "\n",
    "\n",
    "\n",
    "I_20_forward = I_n_forward\n",
    "print(\"Estimation using forward relation:\", I_20_forward)\n",
    "\n"
   ]
  },
  {
   "cell_type": "code",
   "execution_count": 86,
   "metadata": {},
   "outputs": [
    {
     "name": "stdout",
     "output_type": "stream",
     "text": [
      "I_50 = 0\n",
      "I_49 = 0.002\n",
      "I_48 = 0.0018408163265306123\n",
      "I_47 = 0.0018992517006802719\n",
      "I_46 = 0.001937734404400058\n",
      "I_45 = 0.001980139603038255\n",
      "I_44 = 0.002024208261918397\n",
      "I_43 = 0.0020703064465354333\n",
      "I_42 = 0.002118550750695294\n",
      "I_41 = 0.0021690973058828516\n",
      "I_40 = 0.0022221146596556173\n",
      "I_39 = 0.0022777885340344384\n",
      "I_38 = 0.00233632371069912\n",
      "I_37 = 0.002397946576298509\n",
      "I_36 = 0.002462908045072852\n",
      "I_35 = 0.0025314869732704927\n",
      "I_34 = 0.0026039941598158083\n",
      "I_33 = 0.0026807770546066548\n",
      "I_32 = 0.002762225324842365\n",
      "I_31 = 0.0028487774675157638\n",
      "I_30 = 0.002940928704861327\n",
      "I_29 = 0.0030392404628472006\n",
      "I_28 = 0.0031443518157842454\n",
      "I_27 = 0.003256993389850147\n",
      "I_26 = 0.0033780043647186893\n",
      "I_25 = 0.0035083534096819777\n",
      "I_24 = 0.003649164659031803\n",
      "I_23 = 0.003801750200763486\n",
      "I_22 = 0.003967651066880173\n",
      "I_21 = 0.004148689438766529\n",
      "I_20 = 0.004347035818028109\n",
      "Estimation using reverse relation: 0.0045652964181971895\n"
     ]
    }
   ],
   "source": [
    "# Your solution with the reverse relation from eq. (3)\n",
    "I_50 = 0\n",
    "n = 50\n",
    "I_n_reverse = I_50\n",
    "\n",
    "while n > 19:\n",
    "    print(f\"I_{n} = {I_n_reverse}\")\n",
    "    I_n_reverse = 1/10 * (1/n - I_n_reverse)\n",
    "    n -= 1\n",
    "    I_20_reverse = I_n_reverse\n",
    "print(\"Estimation using reverse relation:\", I_20_reverse)"
   ]
  },
  {
   "cell_type": "markdown",
   "metadata": {},
   "source": [
    "Discussion of results here:\n",
    "\n",
    "I would trust the result obtained from the reverse relation approach more than the forward relation approach because the reverse relation starts from a known value with less accumulated error and propagates backward, potentially providing a more accurate estimate.\n"
   ]
  },
  {
   "cell_type": "markdown",
   "metadata": {
    "tags": []
   },
   "source": [
    "## Chicken McNuggets\n",
    "Mc Donalds sells its Chicken McNuggets in packages of 6, 9 and 20 pieces. Write a ```python``` program which tests for a given number `N` whether `N` nuggets can be bought or not. Your program should print *all* possible package combinations in which the `N` nuggets can be obtained (e.g. 60 nuggets can be bought with 3 packages of 20 pieces, 10 packages of 6 pieces and three more combinations). Print a corresponding message if the `N` nuggets cannot be bought! \n",
    "\n",
    "**Hints:**\n",
    "- This is a *brute force* problem. It means that you need to find the solutions by trying *all possibilities*. One possible approach is as follows: Write three nested `while` loops iterating over the variables `m`, `n` and `o`. The variables represent the number of packages with corresponding pieces. `m` stands for the number of packages with 6 nuggets and so on. Within the innermost loop, you can check with an `if`-statement such as\n",
    "```\n",
    "if (6 * m + 9 * n + 20 * o) == N:\n",
    "    print('possible solution found ....')\n",
    "```\n",
    "whether your current combination of `(m, n, o)` is a solution to the problem. You now only need to find iteration limits for `m`, `n` and `o` to solve the task. \n",
    "\n",
    "- For `N=60`, you should find the following solutions for `(m * 6, n * 9, o * 20)`: `(0, 0, 3)`, `(1, 6, 0)`, `(4, 4, 0)`, `(7, 2, 0)`, `(10, 0, 0)`."
   ]
  },
  {
   "cell_type": "code",
   "execution_count": null,
   "metadata": {},
   "outputs": [
    {
     "name": "stdout",
     "output_type": "stream",
     "text": [
      "0 packages of 6 pieces, 0 packages of 9 pieces, 3 packages of 20 pieces\n",
      "1 packages of 6 pieces, 6 packages of 9 pieces, 0 packages of 20 pieces\n",
      "4 packages of 6 pieces, 4 packages of 9 pieces, 0 packages of 20 pieces\n",
      "7 packages of 6 pieces, 2 packages of 9 pieces, 0 packages of 20 pieces\n",
      "10 packages of 6 pieces, 0 packages of 9 pieces, 0 packages of 20 pieces\n"
     ]
    }
   ],
   "source": [
    "\n",
    "def find_nugget_combinations(N):\n",
    "    found_solution = False\n",
    "    m = 0\n",
    "    while 6 * m <= N:\n",
    "        n = 0\n",
    "        while 9 * n <= N:\n",
    "            o = 0\n",
    "            while 20 * o <= N:\n",
    "                if (6 * m + 9 * n + 20 * o) == N:\n",
    "                    print(f\"{m} packages of 6 pieces, {n} packages of 9 pieces, {o} packages of 20 pieces\")\n",
    "                    found_solution = True\n",
    "                o += 1\n",
    "            n += 1\n",
    "        m += 1\n",
    "    if not found_solution:\n",
    "        print(\"No combination found.\")\n",
    "\n",
    "find_nugget_combinations(60)\n"
   ]
  }
 ],
 "metadata": {
  "celltoolbar": "Create Assignment",
  "kernelspec": {
   "display_name": "Python 3 (ipykernel)",
   "language": "python",
   "name": "python3"
  },
  "language_info": {
   "codemirror_mode": {
    "name": "ipython",
    "version": 3
   },
   "file_extension": ".py",
   "mimetype": "text/x-python",
   "name": "python",
   "nbconvert_exporter": "python",
   "pygments_lexer": "ipython3",
   "version": "3.11.6"
  }
 },
 "nbformat": 4,
 "nbformat_minor": 4
}
